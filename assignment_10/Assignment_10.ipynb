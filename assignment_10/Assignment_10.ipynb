{
 "cells": [
  {
   "cell_type": "markdown",
   "metadata": {},
   "source": [
    "# Assignment 10"
   ]
  },
  {
   "cell_type": "markdown",
   "metadata": {},
   "source": [
    "### 1.复习上课内容"
   ]
  },
  {
   "cell_type": "markdown",
   "metadata": {},
   "source": [
    "### 2. 回答一下理论题目"
   ]
  },
  {
   "cell_type": "markdown",
   "metadata": {},
   "source": [
    "#### 1. What is independent assumption in Naive bayes ?\n",
    "Ans：对于特征而言，表示每个特征是相互独立的；对于句子而言，表示句子中的每个词是相互独立的。"
   ]
  },
  {
   "cell_type": "markdown",
   "metadata": {},
   "source": [
    "#### 2. What is MAP(maximum a posterior) and ML(maximum likelihood) ?\n",
    "Ans:ML为取似然函数最大时的参数为其估计值。MAP为取后验函数最大时的参数为其估计值，而后验函数是似然函数和先验概率的积。"
   ]
  },
  {
   "cell_type": "markdown",
   "metadata": {},
   "source": [
    "#### 3. What is support vector in SVM?\n",
    "Ans:当α_i>0时，所形成的（x_i,y_i）就是支持向量，既是边界上的点。"
   ]
  },
  {
   "cell_type": "markdown",
   "metadata": {},
   "source": [
    "#### 4. What is the intuition behind SVM ?\n",
    "Ans:通过$minf(\\alpha)=\\frac{1}{2}\\Sigma_{i=1,j=1}^n\\alpha_i\\alpha_jx_ix_jy_iy_j-\\Sigma_{i=1}^n\\alpha_i$可以求得$\\alpha_i$和$\\alpha_j$,然后在$\\alpha_i>0$的情况下，求得w和b，然后求得svm超平面函数，即得使各分类在支持向量间平行距离最大的函数。"
   ]
  },
  {
   "cell_type": "markdown",
   "metadata": {},
   "source": [
    "#### 5. Shortly describ what 'random' means in random forest ?\n",
    "Ans:第一：随机选择样本。\n",
    "   第二：在选完样本后，随机选择特征。"
   ]
  },
  {
   "cell_type": "markdown",
   "metadata": {},
   "source": [
    "#### 6. What cariterion does XGBoost use to find the best split point in a tree ?\n",
    "Ans:在叶子节点中，使得$Obj=-\\Sigma_{j}{\\frac{G_{j}^2}{h_{j}+\\lambda}}+3\\gamma$最小，或者是从信息熵角度考虑，使用$\\frac{1}{2}[{\\frac{G_{L}^2}{H_{L}+\\lambda}}+{\\frac{G_{R}^2}{H_{R}+\\lambda}}-{\\frac{(G_{L}+G_{R})^2}{{H_{L}+H_{R}}+\\lambda}}]-\\lambda$进行分类。"
   ]
  },
  {
   "cell_type": "markdown",
   "metadata": {},
   "source": [
    "### 3. Practial part"
   ]
  },
  {
   "cell_type": "markdown",
   "metadata": {},
   "source": [
    "##### Problem description: In this part you are going to build a classifier to detect if a piece of news is published by the Xinhua news agency (新华社）."
   ]
  },
  {
   "cell_type": "markdown",
   "metadata": {},
   "source": [
    "#### Hints:"
   ]
  },
  {
   "cell_type": "markdown",
   "metadata": {},
   "source": [
    "###### 1. Firstly, you have to come up with a way to represent the news. (Vectorize the sentence, you can find different ways to do so online)  "
   ]
  },
  {
   "cell_type": "code",
   "execution_count": 116,
   "metadata": {},
   "outputs": [],
   "source": [
    "import pandas as pd\n",
    "import jieba\n",
    "import numpy as np\n",
    "\n",
    "def build_data(train_data_path):\n",
    "    train_df = read_file(train_data_path)\n",
    "    print('read file success')\n",
    "    stop_words = load_stop_words('data/哈工大停用词表.txt')\n",
    "    print('stop_words success')\n",
    "    main_content = cut_words(train_df, cut, stop_words)\n",
    "    return main_content\n",
    "\n",
    "def read_file(file_path):\n",
    "    '''\n",
    "    加载数据文件\n",
    "    :param file_path: 文件路径，str\n",
    "    :return: 加载的数据，dataframe\n",
    "    '''\n",
    "    get_data = pd.read_csv(file_path, encoding='gb18030')\n",
    "    get_data.dropna(subset=['source', 'content'], how='any', inplace=True)\n",
    "    return get_data\n",
    "\n",
    "def load_stop_words(stop_word_path):\n",
    "    '''\n",
    "    加载停用词\n",
    "    :param stop_word_path:停用词路径，str\n",
    "    :return: 停用词表，list\n",
    "    '''\n",
    "    # 打开文件\n",
    "    file = open(stop_word_path, 'r', encoding='utf-8')\n",
    "    # 读取所有行\n",
    "    stop_words = file.readlines()\n",
    "    # 去除每一个停用词前后 空格 换行符\n",
    "    stop_words = [stop_word.strip() for stop_word in stop_words]\n",
    "    file.close()\n",
    "    return stop_words\n",
    "\n",
    "def filter_stopwords(words, stop_words):\n",
    "    '''\n",
    "    过滤停用词\n",
    "    :param words: 切好词的列表, list\n",
    "    :param stop_words: 加载停用词表后的停用词列表, list\n",
    "    :return: 过滤后的停用词, list\n",
    "    '''\n",
    "    return [word for word in words if word not in stop_words]\n",
    "\n",
    "def cut(text, stop_words):\n",
    "    '''\n",
    "    分词并且过滤停用词\n",
    "    :param text: 待分词文本，str\n",
    "    :param stop_words: 停用词列表，list\n",
    "    :return: 分词且过滤后词，以空格分开，str\n",
    "    '''\n",
    "    cut_words = list(jieba.cut(text))\n",
    "    words = [word for word in cut_words if word.strip() != '']\n",
    "    words = filter_stopwords(words, stop_words)\n",
    "    return ' '.join(words)\n",
    "\n",
    "def cut_words(train_data, cut, stop_words):\n",
    "    '''\n",
    "    对dataframe中content列分词，并另存到main_content中\n",
    "    :param train_data: 待分词的文本集，dataframe\n",
    "    :param cut: 分词过滤停用词函数,function\n",
    "    :param stop_words: 停用词表, list\n",
    "    :return: 对content列分词后的新dataframe数据，dataframe\n",
    "    '''\n",
    "    main_content = pd.DataFrame()\n",
    "    main_content['source'] = train_data['source'].fillna('')\n",
    "    main_content['content'] = train_data['content'].fillna('')\n",
    "    main_content['tokenized_content'] = main_content['content'].apply(cut, args=(stop_words,))\n",
    "    return main_content\n",
    "\n",
    "def save_cut_file(file_path, main_content):\n",
    "    '''\n",
    "    保存分词到txt文件\n",
    "    :param main_content: 带分词的dataframe数据,dataframe\n",
    "    :return:\n",
    "    '''\n",
    "    with open(file_path, 'w', encoding='utf-8') as f:\n",
    "        f.write(' '.join(main_content['tokenized_content'].tolist()))\n",
    "    return word_frequency"
   ]
  },
  {
   "cell_type": "code",
   "execution_count": 169,
   "metadata": {},
   "outputs": [
    {
     "name": "stdout",
     "output_type": "stream",
     "text": [
      "read file success\n",
      "stop_words success\n"
     ]
    }
   ],
   "source": [
    "file_path = './data/news.csv'\n",
    "#main_content = build_data(cf.source_data_path)\n",
    "main_content = build_data(file_path)"
   ]
  },
  {
   "cell_type": "code",
   "execution_count": 171,
   "metadata": {},
   "outputs": [
    {
     "name": "stdout",
     "output_type": "stream",
     "text": [
      "本周 6 月 12 日 小米 手机 6 15 款 机型 外 机型 已 暂停 更新 发布 含 开发 版 体验版 内测 稳定版 暂不受 影响 确保 工程师 集中 全部 精力 进行 系统优化 工作 有人 猜测 精力 主要 用到 MIUI 9 研发 之中 MIUI 8 去年 5 月 发布 距今已有 一年 有余 更新换代 当然 MIUI 9 确切 信息 等待 官方消息\n"
     ]
    }
   ],
   "source": [
    "main_content_copy = main_content.copy()\n",
    "print(main_content_copy['tokenized_content'][0])"
   ]
  },
  {
   "cell_type": "code",
   "execution_count": 172,
   "metadata": {},
   "outputs": [
    {
     "data": {
      "text/html": [
       "<div>\n",
       "<style scoped>\n",
       "    .dataframe tbody tr th:only-of-type {\n",
       "        vertical-align: middle;\n",
       "    }\n",
       "\n",
       "    .dataframe tbody tr th {\n",
       "        vertical-align: top;\n",
       "    }\n",
       "\n",
       "    .dataframe thead th {\n",
       "        text-align: right;\n",
       "    }\n",
       "</style>\n",
       "<table border=\"1\" class=\"dataframe\">\n",
       "  <thead>\n",
       "    <tr style=\"text-align: right;\">\n",
       "      <th></th>\n",
       "      <th>source</th>\n",
       "      <th>content</th>\n",
       "      <th>tokenized_content</th>\n",
       "    </tr>\n",
       "  </thead>\n",
       "  <tbody>\n",
       "    <tr>\n",
       "      <th>0</th>\n",
       "      <td>快科技@http://www.kkj.cn/</td>\n",
       "      <td>此外，自本周（6月12日）起，除小米手机6等15款机型外，其余机型已暂停更新发布（含开发版/...</td>\n",
       "      <td>本周 6 月 12 日 小米 手机 6 15 款 机型 外 机型 已 暂停 更新 发布 含 ...</td>\n",
       "    </tr>\n",
       "    <tr>\n",
       "      <th>1</th>\n",
       "      <td>快科技@http://www.kkj.cn/</td>\n",
       "      <td>骁龙835作为唯一通过Windows 10桌面平台认证的ARM处理器，高通强调，不会因为只考...</td>\n",
       "      <td>骁龙 835 唯一 Windows 10 桌面 平台 认证 ARM 处理器 高通 强调 不会...</td>\n",
       "    </tr>\n",
       "    <tr>\n",
       "      <th>2</th>\n",
       "      <td>快科技@http://www.kkj.cn/</td>\n",
       "      <td>此前的一加3T搭载的是3400mAh电池，DashCharge快充规格为5V/4A。\\r\\n...</td>\n",
       "      <td>此前 一加 3T 搭载 3400mAh 电池 DashCharge 快充 规格 5V 4A ...</td>\n",
       "    </tr>\n",
       "    <tr>\n",
       "      <th>3</th>\n",
       "      <td>新华社</td>\n",
       "      <td>这是6月18日在葡萄牙中部大佩德罗冈地区拍摄的被森林大火烧毁的汽车。新华社记者张立云摄\\r\\n</td>\n",
       "      <td>这是 6 月 18 日 葡萄牙 中部 大 佩德罗 冈 地区 拍摄 森林 大火 烧毁 汽车 新...</td>\n",
       "    </tr>\n",
       "    <tr>\n",
       "      <th>4</th>\n",
       "      <td>深圳大件事</td>\n",
       "      <td>（原标题：44岁女子跑深圳约会网友被拒，暴雨中裸身奔走……）\\r\\n@深圳交警微博称：昨日清...</td>\n",
       "      <td>原 标题 44 岁 女子 跑 深圳 约会 网友 拒 暴雨 中 裸身 奔走 … … 深圳 交警...</td>\n",
       "    </tr>\n",
       "  </tbody>\n",
       "</table>\n",
       "</div>"
      ],
      "text/plain": [
       "                   source                                            content  \\\n",
       "0  快科技@http://www.kkj.cn/  此外，自本周（6月12日）起，除小米手机6等15款机型外，其余机型已暂停更新发布（含开发版/...   \n",
       "1  快科技@http://www.kkj.cn/  骁龙835作为唯一通过Windows 10桌面平台认证的ARM处理器，高通强调，不会因为只考...   \n",
       "2  快科技@http://www.kkj.cn/  此前的一加3T搭载的是3400mAh电池，DashCharge快充规格为5V/4A。\\r\\n...   \n",
       "3                     新华社    这是6月18日在葡萄牙中部大佩德罗冈地区拍摄的被森林大火烧毁的汽车。新华社记者张立云摄\\r\\n   \n",
       "4                   深圳大件事  （原标题：44岁女子跑深圳约会网友被拒，暴雨中裸身奔走……）\\r\\n@深圳交警微博称：昨日清...   \n",
       "\n",
       "                                   tokenized_content  \n",
       "0  本周 6 月 12 日 小米 手机 6 15 款 机型 外 机型 已 暂停 更新 发布 含 ...  \n",
       "1  骁龙 835 唯一 Windows 10 桌面 平台 认证 ARM 处理器 高通 强调 不会...  \n",
       "2  此前 一加 3T 搭载 3400mAh 电池 DashCharge 快充 规格 5V 4A ...  \n",
       "3  这是 6 月 18 日 葡萄牙 中部 大 佩德罗 冈 地区 拍摄 森林 大火 烧毁 汽车 新...  \n",
       "4  原 标题 44 岁 女子 跑 深圳 约会 网友 拒 暴雨 中 裸身 奔走 … … 深圳 交警...  "
      ]
     },
     "execution_count": 172,
     "metadata": {},
     "output_type": "execute_result"
    }
   ],
   "source": [
    "main_content_copy.head()"
   ]
  },
  {
   "cell_type": "code",
   "execution_count": 223,
   "metadata": {},
   "outputs": [],
   "source": [
    "main_content_copy = main_content.copy()"
   ]
  },
  {
   "cell_type": "code",
   "execution_count": 224,
   "metadata": {},
   "outputs": [],
   "source": [
    "main_content_copy['target'] = main_content_copy['source'].apply(lambda r:1 if r.find('新华') != -1 else 0)"
   ]
  },
  {
   "cell_type": "code",
   "execution_count": 225,
   "metadata": {},
   "outputs": [
    {
     "data": {
      "text/plain": [
       "array([0, 0, 0, ..., 1, 1, 1], dtype=int64)"
      ]
     },
     "execution_count": 225,
     "metadata": {},
     "output_type": "execute_result"
    }
   ],
   "source": [
    "target = main_content_copy['target'].values\n",
    "target"
   ]
  },
  {
   "cell_type": "code",
   "execution_count": 233,
   "metadata": {},
   "outputs": [
    {
     "data": {
      "text/plain": [
       "Text(0.5, 0, '新华社/非新华社比例')"
      ]
     },
     "execution_count": 233,
     "metadata": {},
     "output_type": "execute_result"
    },
    {
     "data": {
      "image/png": "[encoded data removed]",
      "text/plain": [
       "<Figure size 432x288 with 1 Axes>"
      ]
     },
     "metadata": {
      "needs_background": "light"
     },
     "output_type": "display_data"
    }
   ],
   "source": [
    "import seaborn as sns\n",
    "import matplotlib.pyplot as plt\n",
    "from pylab import mpl\n",
    "mpl.rcParams['font.sans-serif'] = ['SimHei']  # 指定默认字体\n",
    "mpl.rcParams['axes.unicode_minus'] = False  # 解决保存图像是负号'-'显示为方块的问题\n",
    "\n",
    "main_content_copy['target'].value_counts()\n",
    "sns.countplot(x='target',data=main_content_copy,palette=\"muted\")\n",
    "plt.xlabel(\"新华社/非新华社比例\")"
   ]
  },
  {
   "cell_type": "code",
   "execution_count": 181,
   "metadata": {},
   "outputs": [],
   "source": [
    "from gensim.models.doc2vec import TaggedDocument\n",
    " \n",
    "#创建标签化文档\n",
    "main_content_tags = main_content_copy.apply(\n",
    "    lambda r: TaggedDocument(words=r['tokenized_content'], tags=[r['target']]), axis=1)"
   ]
  },
  {
   "cell_type": "code",
   "execution_count": 185,
   "metadata": {},
   "outputs": [
    {
     "data": {
      "text/plain": [
       "TaggedDocument(words='这是 6 月 18 日 葡萄牙 中部 大 佩德罗 冈 地区 拍摄 森林 大火 烧毁 汽车 新华社 记者 张立 云摄', tags=[1])"
      ]
     },
     "execution_count": 185,
     "metadata": {},
     "output_type": "execute_result"
    }
   ],
   "source": [
    "main_content_tags[3]"
   ]
  },
  {
   "cell_type": "code",
   "execution_count": 186,
   "metadata": {},
   "outputs": [],
   "source": [
    "def train_doc2vec(tag_document, size=150, epoch=1):\n",
    "    model = doc2vec.Doc2Vec(tag_document, dm=0, alpha=0.025, vector_size=size, min_alpha=0.025, min_count=20)\n",
    "    for epoch in range(epoch):\n",
    "        if epoch%2 == 0:\n",
    "            print('now training epoch %s'%epoch)\n",
    "        model.train(tag_document, total_examples=model.corpus_count, epochs=epoch)\n",
    "        model.alpha = 0.002\n",
    "        model.min_alpha = model.alpha\n",
    "    return model"
   ]
  },
  {
   "cell_type": "code",
   "execution_count": 187,
   "metadata": {},
   "outputs": [
    {
     "name": "stdout",
     "output_type": "stream",
     "text": [
      "now training epoch 0\n"
     ]
    }
   ],
   "source": [
    "model = train_doc2vec(list(main_content_tags), size=150, epoch=2)"
   ]
  },
  {
   "cell_type": "code",
   "execution_count": 189,
   "metadata": {},
   "outputs": [
    {
     "name": "stdout",
     "output_type": "stream",
     "text": [
      "0.17749417\n"
     ]
    }
   ],
   "source": [
    "print(model.docvecs.similarity(0, 1))"
   ]
  },
  {
   "cell_type": "code",
   "execution_count": 200,
   "metadata": {},
   "outputs": [],
   "source": [
    "doc_vectors = [model.infer_vector(doc.words.split(' '), steps=20) for doc in main_content_tags]"
   ]
  },
  {
   "cell_type": "markdown",
   "metadata": {},
   "source": [
    "###### 2. Secondly,  pick a machine learning algorithm that you think is suitable for this task"
   ]
  },
  {
   "cell_type": "code",
   "execution_count": 234,
   "metadata": {},
   "outputs": [],
   "source": [
    "from sklearn.model_selection import train_test_split\n",
    "X_train, X_test, y_train, y_test = train_test_split(doc_vectors, target, test_size=0.3, random_state=42)"
   ]
  },
  {
   "cell_type": "code",
   "execution_count": 238,
   "metadata": {},
   "outputs": [
    {
     "name": "stdout",
     "output_type": "stream",
     "text": [
      "(60936, 150)\n",
      "(26116, 150)\n",
      "(60936,)\n",
      "(26116,)\n"
     ]
    }
   ],
   "source": [
    "print(np.array(X_train).shape)\n",
    "print(np.array(X_test).shape)\n",
    "print(np.array(y_train).shape)\n",
    "print(np.array(y_test).shape)"
   ]
  },
  {
   "cell_type": "code",
   "execution_count": 407,
   "metadata": {},
   "outputs": [
    {
     "data": {
      "text/plain": [
       "SVC(C=1.0, break_ties=False, cache_size=200, class_weight=None, coef0=0.0,\n",
       "    decision_function_shape='ovr', degree=3, gamma='scale', kernel='rbf',\n",
       "    max_iter=-1, probability=False, random_state=None, shrinking=True,\n",
       "    tol=0.001, verbose=False)"
      ]
     },
     "execution_count": 407,
     "metadata": {},
     "output_type": "execute_result"
    }
   ],
   "source": [
    "from sklearn import svm\n",
    "import time\n",
    "\n",
    "clf=svm.SVC()\n",
    "clf.fit(X_train, y_train)"
   ]
  },
  {
   "cell_type": "code",
   "execution_count": 408,
   "metadata": {},
   "outputs": [
    {
     "name": "stdout",
     "output_type": "stream",
     "text": [
      "Wall time: 16 s\n"
     ]
    }
   ],
   "source": [
    "%%time\n",
    "predict = clf.predict(X_test)"
   ]
  },
  {
   "cell_type": "code",
   "execution_count": 409,
   "metadata": {},
   "outputs": [
    {
     "name": "stdout",
     "output_type": "stream",
     "text": [
      "Accuracy rate：0.9914228825241231\n"
     ]
    }
   ],
   "source": [
    "from sklearn.metrics import accuracy_score\n",
    "\n",
    "# 调用accuracy_score计算分类准确度\n",
    "print('Accuracy rate：{}'.format(accuracy_score(y_test,predict)))"
   ]
  },
  {
   "cell_type": "code",
   "execution_count": 410,
   "metadata": {},
   "outputs": [
    {
     "name": "stdout",
     "output_type": "stream",
     "text": [
      "Accuracy rate：0.9914228825241231\n"
     ]
    }
   ],
   "source": [
    "print('Accuracy rate：{}'.format(sum(predict == y_test)/len(y_test)))"
   ]
  },
  {
   "cell_type": "code",
   "execution_count": 411,
   "metadata": {},
   "outputs": [
    {
     "data": {
      "text/plain": [
       "0.9921557043455429"
      ]
     },
     "execution_count": 411,
     "metadata": {},
     "output_type": "execute_result"
    }
   ],
   "source": [
    "from sklearn.metrics import confusion_matrix, roc_curve, roc_auc_score\n",
    "clf.score(X_train, y_train)"
   ]
  },
  {
   "cell_type": "code",
   "execution_count": 412,
   "metadata": {},
   "outputs": [
    {
     "data": {
      "text/plain": [
       "0.9914228825241231"
      ]
     },
     "execution_count": 412,
     "metadata": {},
     "output_type": "execute_result"
    }
   ],
   "source": [
    "clf.score(X_test,y_test)"
   ]
  },
  {
   "cell_type": "code",
   "execution_count": 413,
   "metadata": {},
   "outputs": [
    {
     "data": {
      "text/plain": [
       "0.995261265072985"
      ]
     },
     "execution_count": 413,
     "metadata": {},
     "output_type": "execute_result"
    }
   ],
   "source": [
    "from sklearn.metrics import f1_score\n",
    "\n",
    "f1_score(y_test,predict)"
   ]
  },
  {
   "cell_type": "code",
   "execution_count": 414,
   "metadata": {},
   "outputs": [
    {
     "name": "stdout",
     "output_type": "stream",
     "text": [
      "              precision    recall  f1-score   support\n",
      "\n",
      "           0       0.94      0.97      0.95      2436\n",
      "           1       1.00      0.99      1.00     23680\n",
      "\n",
      "    accuracy                           0.99     26116\n",
      "   macro avg       0.97      0.98      0.98     26116\n",
      "weighted avg       0.99      0.99      0.99     26116\n",
      "\n"
     ]
    }
   ],
   "source": [
    "from sklearn.metrics import classification_report\n",
    "print(classification_report(y_test,predict))"
   ]
  },
  {
   "cell_type": "code",
   "execution_count": 415,
   "metadata": {},
   "outputs": [
    {
     "data": {
      "text/plain": [
       "array([[ 2369,    67],\n",
       "       [  157, 23523]], dtype=int64)"
      ]
     },
     "execution_count": 415,
     "metadata": {},
     "output_type": "execute_result"
    }
   ],
   "source": [
    "from sklearn.metrics import confusion_matrix\n",
    "cnf_matrix = confusion_matrix(y_test,predict)\n",
    "cnf_matrix"
   ]
  },
  {
   "cell_type": "code",
   "execution_count": 416,
   "metadata": {},
   "outputs": [
    {
     "data": {
      "image/png": "[encoded data removed]",
      "text/plain": [
       "<Figure size 432x288 with 2 Axes>"
      ]
     },
     "metadata": {
      "needs_background": "light"
     },
     "output_type": "display_data"
    }
   ],
   "source": [
    "def plot_cnf_matirx(cnf_matrix,description):\n",
    "    class_names = [0,1]\n",
    "    fig,ax = plt.subplots()\n",
    "    tick_marks = np.arange(len(class_names))\n",
    "    plt.xticks(tick_marks,class_names)\n",
    "    plt.yticks(tick_marks,class_names)\n",
    "\n",
    "#create a heat map\n",
    "    sns.heatmap(pd.DataFrame(cnf_matrix), annot = True, cmap = 'OrRd',\n",
    "               fmt = 'g')\n",
    "    ax.xaxis.set_label_position('top')\n",
    "    plt.tight_layout()\n",
    "    plt.title(description, y = 1.1,fontsize=16)\n",
    "    plt.ylabel('实际值0/1',fontsize=12)\n",
    "    plt.xlabel('预测值0/1',fontsize=12)\n",
    "    plt.show()\n",
    "    \n",
    "plot_cnf_matirx(cnf_matrix,'Confusion matrix -- Logistic Regression')"
   ]
  },
  {
   "cell_type": "code",
   "execution_count": 417,
   "metadata": {},
   "outputs": [],
   "source": [
    "#画ROC曲线\n",
    "def plot_roc_curve(fprs,tprs):\n",
    "    plt.figure(figsize=(8,6),dpi=80)\n",
    "    plt.plot(fprs,tprs)\n",
    "    plt.plot([0,1],linestyle='--')\n",
    "    plt.xticks(fontsize=13)\n",
    "    plt.yticks(fontsize=13)\n",
    "    plt.ylabel('TP rate',fontsize=15)\n",
    "    plt.xlabel('FP rate',fontsize=15)\n",
    "    plt.title('ROC曲线',fontsize=17)\n",
    "    plt.grid()\n",
    "    plt.show()"
   ]
  },
  {
   "cell_type": "code",
   "execution_count": 418,
   "metadata": {},
   "outputs": [
    {
     "data": {
      "image/png": "[encoded data removed]",
      "text/plain": [
       "<Figure size 432x288 with 1 Axes>"
      ]
     },
     "metadata": {
      "needs_background": "light"
     },
     "output_type": "display_data"
    }
   ],
   "source": [
    "from sklearn.metrics import precision_recall_curve\n",
    "\n",
    "scores = clf.decision_function(X_test)\n",
    "\n",
    "precisions,recalls,thresholds = precision_recall_curve(y_test,scores)\n",
    "plt.plot(thresholds,precisions[:-1])\n",
    "plt.plot(thresholds,recalls[:-1])\n",
    "plt.grid()\n",
    "plt.show() "
   ]
  },
  {
   "cell_type": "code",
   "execution_count": 419,
   "metadata": {},
   "outputs": [],
   "source": [
    "from sklearn.metrics import roc_curve, auc\n",
    "fprs,tprs,thresholds = roc_curve(y_test,scores)"
   ]
  },
  {
   "cell_type": "code",
   "execution_count": 420,
   "metadata": {},
   "outputs": [
    {
     "data": {
      "image/png": "[encoded data removed]",
      "text/plain": [
       "<Figure size 640x480 with 1 Axes>"
      ]
     },
     "metadata": {
      "needs_background": "light"
     },
     "output_type": "display_data"
    }
   ],
   "source": [
    "# 此处调用前面的绘制函数\n",
    "plot_roc_curve(fprs,tprs)"
   ]
  },
  {
   "cell_type": "code",
   "execution_count": 421,
   "metadata": {},
   "outputs": [
    {
     "data": {
      "text/plain": [
       "0.9982056178715663"
      ]
     },
     "execution_count": 421,
     "metadata": {},
     "output_type": "execute_result"
    }
   ],
   "source": [
    "roc_auc_score(y_test,scores)"
   ]
  },
  {
   "cell_type": "markdown",
   "metadata": {},
   "source": [
    "### Congratulations! You have completed all assignments in this week. The question below is optional. If you still have time, why don't try it out."
   ]
  },
  {
   "cell_type": "markdown",
   "metadata": {},
   "source": [
    "## Option:"
   ]
  },
  {
   "cell_type": "markdown",
   "metadata": {},
   "source": [
    "#### Try differnt machine learning algorithms with different combinations of parameters in the practical part, and compare their performances (Better use some visualization techiniques)."
   ]
  },
  {
   "cell_type": "code",
   "execution_count": 422,
   "metadata": {},
   "outputs": [],
   "source": [
    "from xgboost.sklearn import XGBClassifier\n",
    "from xgboost import plot_importance"
   ]
  },
  {
   "cell_type": "code",
   "execution_count": 423,
   "metadata": {},
   "outputs": [],
   "source": [
    "X_train = np.array(X_train)\n",
    "y_train = np.array(y_train)\n",
    "X_test = np.array(X_test)\n",
    "y_test = np.array(y_test)"
   ]
  },
  {
   "cell_type": "code",
   "execution_count": 424,
   "metadata": {},
   "outputs": [
    {
     "data": {
      "text/plain": [
       "XGBClassifier(base_score=0.5, booster=None, colsample_bylevel=1,\n",
       "              colsample_bynode=1, colsample_bytree=1, gamma=0, gpu_id=-1,\n",
       "              importance_type='gain', interaction_constraints=None,\n",
       "              learning_rate=0.300000012, max_delta_step=0, max_depth=6,\n",
       "              min_child_weight=1, missing=nan, monotone_constraints=None,\n",
       "              n_estimators=100, n_jobs=0, num_parallel_tree=1,\n",
       "              objective='binary:logistic', random_state=0, reg_alpha=0,\n",
       "              reg_lambda=1, scale_pos_weight=1, subsample=1, tree_method=None,\n",
       "              validate_parameters=False, verbosity=None)"
      ]
     },
     "execution_count": 424,
     "metadata": {},
     "output_type": "execute_result"
    }
   ],
   "source": [
    "xgb = XGBClassifier()\n",
    "xgb.fit(X_train, y_train)"
   ]
  },
  {
   "cell_type": "code",
   "execution_count": 425,
   "metadata": {},
   "outputs": [
    {
     "data": {
      "image/png": "[encoded data removed]",
      "text/plain": [
       "<Figure size 1080x1080 with 1 Axes>"
      ]
     },
     "metadata": {
      "needs_background": "light"
     },
     "output_type": "display_data"
    }
   ],
   "source": [
    "fig,ax = plt.subplots(figsize=(15,15))\n",
    "plot_importance(xgb, height=0.5, ax=ax, max_num_features=30)\n",
    "plt.show()\n",
    "#图中显示doc2vec中下标为33，110，147的代表的特征贡献最大。"
   ]
  },
  {
   "cell_type": "code",
   "execution_count": 426,
   "metadata": {},
   "outputs": [
    {
     "name": "stdout",
     "output_type": "stream",
     "text": [
      "Wall time: 260 ms\n"
     ]
    }
   ],
   "source": [
    "%%time\n",
    "predict_xgb = xgb.predict(X_test)"
   ]
  },
  {
   "cell_type": "code",
   "execution_count": 427,
   "metadata": {},
   "outputs": [
    {
     "name": "stdout",
     "output_type": "stream",
     "text": [
      "Accuracy rate：0.9889722775310155\n"
     ]
    }
   ],
   "source": [
    "from sklearn.metrics import accuracy_score\n",
    "\n",
    "# 调用accuracy_score计算分类准确度\n",
    "print('Accuracy rate：{}'.format(accuracy_score(y_test,predict_xgb)))"
   ]
  },
  {
   "cell_type": "markdown",
   "metadata": {},
   "source": [
    "#### 在默认参数的情况下，这个二分类任务中，xgboost的准确率比SVM的准确率大概低0.01，但是预测时间会快非常多。"
   ]
  },
  {
   "cell_type": "code",
   "execution_count": 428,
   "metadata": {},
   "outputs": [
    {
     "data": {
      "text/plain": [
       "1.0"
      ]
     },
     "execution_count": 428,
     "metadata": {},
     "output_type": "execute_result"
    }
   ],
   "source": [
    "from sklearn.metrics import confusion_matrix, roc_curve, roc_auc_score\n",
    "xgb.score(X_train, y_train)"
   ]
  },
  {
   "cell_type": "code",
   "execution_count": 429,
   "metadata": {},
   "outputs": [
    {
     "data": {
      "text/plain": [
       "0.9889722775310155"
      ]
     },
     "execution_count": 429,
     "metadata": {},
     "output_type": "execute_result"
    }
   ],
   "source": [
    "xgb.score(X_test,y_test)"
   ]
  },
  {
   "cell_type": "code",
   "execution_count": 430,
   "metadata": {},
   "outputs": [
    {
     "data": {
      "text/plain": [
       "0.9939137785291632"
      ]
     },
     "execution_count": 430,
     "metadata": {},
     "output_type": "execute_result"
    }
   ],
   "source": [
    "from sklearn.metrics import f1_score\n",
    "\n",
    "f1_score(y_test,predict_xgb)"
   ]
  },
  {
   "cell_type": "code",
   "execution_count": 431,
   "metadata": {},
   "outputs": [
    {
     "name": "stdout",
     "output_type": "stream",
     "text": [
      "              precision    recall  f1-score   support\n",
      "\n",
      "           0       0.93      0.95      0.94      2436\n",
      "           1       0.99      0.99      0.99     23680\n",
      "\n",
      "    accuracy                           0.99     26116\n",
      "   macro avg       0.96      0.97      0.97     26116\n",
      "weighted avg       0.99      0.99      0.99     26116\n",
      "\n"
     ]
    }
   ],
   "source": [
    "from sklearn.metrics import classification_report\n",
    "print(classification_report(y_test,predict_xgb))"
   ]
  },
  {
   "cell_type": "code",
   "execution_count": 432,
   "metadata": {},
   "outputs": [
    {
     "data": {
      "text/plain": [
       "array([[ 2312,   124],\n",
       "       [  164, 23516]], dtype=int64)"
      ]
     },
     "execution_count": 432,
     "metadata": {},
     "output_type": "execute_result"
    }
   ],
   "source": [
    "from sklearn.metrics import confusion_matrix\n",
    "cnf_matrix = confusion_matrix(y_test,predict_xgb)\n",
    "cnf_matrix"
   ]
  },
  {
   "cell_type": "code",
   "execution_count": 433,
   "metadata": {},
   "outputs": [
    {
     "data": {
      "image/png": "[encoded data removed]",
      "text/plain": [
       "<Figure size 432x288 with 2 Axes>"
      ]
     },
     "metadata": {
      "needs_background": "light"
     },
     "output_type": "display_data"
    }
   ],
   "source": [
    "def plot_cnf_matirx(cnf_matrix,description):\n",
    "    class_names = [0,1]\n",
    "    fig,ax = plt.subplots()\n",
    "    tick_marks = np.arange(len(class_names))\n",
    "    plt.xticks(tick_marks,class_names)\n",
    "    plt.yticks(tick_marks,class_names)\n",
    "\n",
    "#create a heat map\n",
    "    sns.heatmap(pd.DataFrame(cnf_matrix), annot = True, cmap = 'OrRd',\n",
    "               fmt = 'g')\n",
    "    ax.xaxis.set_label_position('top')\n",
    "    plt.tight_layout()\n",
    "    plt.title(description, y = 1.1,fontsize=16)\n",
    "    plt.ylabel('实际值0/1',fontsize=12)\n",
    "    plt.xlabel('预测值0/1',fontsize=12)\n",
    "    plt.show()\n",
    "    \n",
    "plot_cnf_matirx(cnf_matrix,'Confusion matrix -- Logistic Regression')"
   ]
  },
  {
   "cell_type": "code",
   "execution_count": 434,
   "metadata": {},
   "outputs": [
    {
     "data": {
      "image/png": "[encoded data removed]",
      "text/plain": [
       "<Figure size 432x288 with 1 Axes>"
      ]
     },
     "metadata": {
      "needs_background": "light"
     },
     "output_type": "display_data"
    }
   ],
   "source": [
    "from sklearn.metrics import precision_recall_curve\n",
    "\n",
    "scores = xgb.predict_proba(X_test)\n",
    "\n",
    "precisions,recalls,thresholds = precision_recall_curve(y_test, scores[:, 1])\n",
    "plt.plot(thresholds,precisions[:-1])\n",
    "plt.plot(thresholds,recalls[:-1])\n",
    "plt.grid()\n",
    "plt.show() "
   ]
  },
  {
   "cell_type": "code",
   "execution_count": 435,
   "metadata": {},
   "outputs": [
    {
     "data": {
      "image/png": "[encoded data removed]",
      "text/plain": [
       "<Figure size 640x480 with 1 Axes>"
      ]
     },
     "metadata": {
      "needs_background": "light"
     },
     "output_type": "display_data"
    }
   ],
   "source": [
    "from sklearn.metrics import roc_curve, auc\n",
    "fprs,tprs,thresholds = roc_curve(y_test, scores[:, 1])\n",
    "# 此处调用前面的绘制函数\n",
    "plot_roc_curve(fprs,tprs)"
   ]
  },
  {
   "cell_type": "code",
   "execution_count": 436,
   "metadata": {},
   "outputs": [
    {
     "data": {
      "text/plain": [
       "0.9981380693732526"
      ]
     },
     "execution_count": 436,
     "metadata": {},
     "output_type": "execute_result"
    }
   ],
   "source": [
    "roc_auc_score(y_test, scores[:, 1])"
   ]
  },
  {
   "cell_type": "code",
   "execution_count": null,
   "metadata": {},
   "outputs": [],
   "source": []
  }
 ],
 "metadata": {
  "kernelspec": {
   "display_name": "Python 3",
   "language": "python",
   "name": "python3"
  },
  "language_info": {
   "codemirror_mode": {
    "name": "ipython",
    "version": 3
   },
   "file_extension": ".py",
   "mimetype": "text/x-python",
   "name": "python",
   "nbconvert_exporter": "python",
   "pygments_lexer": "ipython3",
   "version": "3.7.5"
  }
 },
 "nbformat": 4,
 "nbformat_minor": 2
}
